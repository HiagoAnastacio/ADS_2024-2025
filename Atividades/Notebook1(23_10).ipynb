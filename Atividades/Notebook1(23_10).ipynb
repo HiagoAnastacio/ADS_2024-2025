{
  "nbformat": 4,
  "nbformat_minor": 0,
  "metadata": {
    "colab": {
      "provenance": []
    },
    "kernelspec": {
      "name": "python3",
      "display_name": "Python 3"
    },
    "language_info": {
      "name": "python"
    }
  },
  "cells": [
    {
      "cell_type": "markdown",
      "source": [
        "# Meu primeiro notebook python"
      ],
      "metadata": {
        "id": "DIdis_z1UR-S"
      }
    },
    {
      "cell_type": "code",
      "source": [
        "print(\"Olá mundo!, só que dentro de um notebook.\")\n",
        "#int(input('Coloca um numero aqui,' '.'))\n"
      ],
      "metadata": {
        "id": "RidRrjqUURtn"
      },
      "execution_count": null,
      "outputs": []
    },
    {
      "cell_type": "markdown",
      "source": [
        "#Variáveis no Python\n"
      ],
      "metadata": {
        "id": "QCQh4FF3WWRY"
      }
    },
    {
      "cell_type": "markdown",
      "source": [
        "- Dinamicamente tipada"
      ],
      "metadata": {
        "id": "o9PF8XQSYDHW"
      }
    },
    {
      "cell_type": "code",
      "source": [
        "n = 20\n",
        "txt = \"GG WP\"\n",
        "print(n)\n",
        "print(\"txt\")\n",
        "print(txt)"
      ],
      "metadata": {
        "colab": {
          "base_uri": "https://localhost:8080/"
        },
        "id": "8iyN8782WeVV",
        "outputId": "58ecadd6-77f0-4159-d4ed-1ff0e1847f42"
      },
      "execution_count": 8,
      "outputs": [
        {
          "output_type": "stream",
          "name": "stdout",
          "text": [
            "20\n",
            "txt\n",
            "GG WP\n"
          ]
        }
      ]
    },
    {
      "cell_type": "markdown",
      "source": [
        "- # Tipos de variáveis\n",
        "#####  Numéricas"
      ],
      "metadata": {
        "id": "MKz6RkvPYQxR"
      }
    },
    {
      "cell_type": "code",
      "source": [
        "PI = 3.14\n",
        "COMPLEX = 6j\n",
        "\n",
        "print(type(n))\n",
        "print(type(PI))\n",
        "print(type(COMPLEX))\n"
      ],
      "metadata": {
        "colab": {
          "base_uri": "https://localhost:8080/"
        },
        "id": "kWusAjSGYQdF",
        "outputId": "75905b03-64e2-4d00-c221-5fd2502a84ea"
      },
      "execution_count": 39,
      "outputs": [
        {
          "output_type": "stream",
          "name": "stdout",
          "text": [
            "<class 'int'>\n",
            "<class 'float'>\n",
            "<class 'complex'>\n"
          ]
        }
      ]
    },
    {
      "cell_type": "markdown",
      "source": [
        "#####  Texto"
      ],
      "metadata": {
        "id": "C4AxG4PYf701"
      }
    },
    {
      "cell_type": "code",
      "source": [
        "print(type(txt))"
      ],
      "metadata": {
        "colab": {
          "base_uri": "https://localhost:8080/"
        },
        "id": "ByasONgDf-q3",
        "outputId": "cfc0ee15-dac5-4428-fcdc-7eb3f01f2d54"
      },
      "execution_count": 40,
      "outputs": [
        {
          "output_type": "stream",
          "name": "stdout",
          "text": [
            "<class 'str'>\n"
          ]
        }
      ]
    },
    {
      "cell_type": "markdown",
      "source": [
        "#####  Coleções"
      ],
      "metadata": {
        "id": "OHXZaPsSgJZW"
      }
    },
    {
      "cell_type": "code",
      "source": [
        "lista = ['Tomate','Alface','Cebola']# Com []\n",
        "tupla = ('Aveia','Nescau boll','Sucrilhos')# Com ()\n",
        "periodo = range(0,6)# Periodo entre dois números\n",
        "\n",
        "print(type(lista))\n",
        "print(type(tupla))\n",
        "print(type(periodo))"
      ],
      "metadata": {
        "colab": {
          "base_uri": "https://localhost:8080/"
        },
        "id": "hwiMNO9sgKBy",
        "outputId": "a0513efd-a54d-4c7d-dc01-0d5f16751b73"
      },
      "execution_count": 47,
      "outputs": [
        {
          "output_type": "stream",
          "name": "stdout",
          "text": [
            "<class 'list'>\n",
            "<class 'tuple'>\n",
            "<class 'range'>\n"
          ]
        }
      ]
    },
    {
      "cell_type": "code",
      "source": [
        "dicionario = {'Nome':'GG da silva','Idade':45,'alunos ADS2024': ['Catharina','Mó','Balneario']}\n",
        "print(type(dicionario))\n"
      ],
      "metadata": {
        "colab": {
          "base_uri": "https://localhost:8080/"
        },
        "id": "pMH6ZrM1huL9",
        "outputId": "2a7d877b-4953-4d4f-f38b-308c62148be1"
      },
      "execution_count": 48,
      "outputs": [
        {
          "output_type": "stream",
          "name": "stdout",
          "text": [
            "<class 'dict'>\n"
          ]
        }
      ]
    },
    {
      "cell_type": "code",
      "source": [
        "conjunto = {'Pepino','Cenoura','Beterraba'}# Com {}\n",
        "conjunto_congelado= frozenset({'Patinho','Lagarto','Costela'})# Com frozenset()\n",
        "\n",
        "print(type(conjunto))\n",
        "print(type(conjunto_congelado))"
      ],
      "metadata": {
        "colab": {
          "base_uri": "https://localhost:8080/"
        },
        "id": "sqlx_Agdj94Z",
        "outputId": "a43ee735-314b-4fad-d455-349f904ca5fe"
      },
      "execution_count": 49,
      "outputs": [
        {
          "output_type": "stream",
          "name": "stdout",
          "text": [
            "<class 'set'>\n",
            "<class 'frozenset'>\n"
          ]
        }
      ]
    },
    {
      "cell_type": "code",
      "source": [
        "booleano = True\n",
        "print(type(booleano))"
      ],
      "metadata": {
        "colab": {
          "base_uri": "https://localhost:8080/"
        },
        "id": "Ycxe_IHwlWbJ",
        "outputId": "1c7f5a12-655f-4cec-8ccc-bbc690457ae5"
      },
      "execution_count": 50,
      "outputs": [
        {
          "output_type": "stream",
          "name": "stdout",
          "text": [
            "<class 'bool'>\n"
          ]
        }
      ]
    },
    {
      "cell_type": "code",
      "source": [
        "bitearray = bytearray(5)\n",
        "memoryview = memoryview(bytes(5))\n",
        "NENHUM = None"
      ],
      "metadata": {
        "id": "Hw3_qsIol48W"
      },
      "execution_count": 52,
      "outputs": []
    },
    {
      "cell_type": "code",
      "source": [
        "Nome = input('Me diga o seu nome:' )\n",
        "Idade = int(input('Me diga o sua idade:' ))\n",
        "# Data_Nacimento = 2024 - Idade\n",
        "Idade = int(Idade) + 1\n",
        "\n",
        "print('Olá', Nome +', Você tem', Idade ,'anos.')\n",
        "print('Olá ' + Nome + ', Você tem '+ str(Idade) + ' anos.') #Só serve para contatenar STRING\n",
        "print(f'Olá {Nome}, Você tem {Idade} anos.')# Forma mais usada"
      ],
      "metadata": {
        "colab": {
          "base_uri": "https://localhost:8080/"
        },
        "id": "16TG8oKMmVs0",
        "outputId": "c784990d-a0a7-426a-c4d5-a122ac267781"
      },
      "execution_count": 53,
      "outputs": [
        {
          "output_type": "stream",
          "name": "stdout",
          "text": [
            "Me diga o seu nome:gg\n",
            "Me diga o sua idade:60\n",
            "Olá gg, Você tem 61 anos.\n",
            "Olá gg, Você tem 61 anos.\n",
            "Olá gg, Você tem 61 anos.\n"
          ]
        }
      ]
    },
    {
      "cell_type": "markdown",
      "source": [
        "#####  Operadores"
      ],
      "metadata": {
        "id": "z2VBuSKpsgdp"
      }
    },
    {
      "cell_type": "markdown",
      "source": [
        "#####  Aritiméticos"
      ],
      "metadata": {
        "id": "IMLIhDqGsgHx"
      }
    },
    {
      "cell_type": "code",
      "source": [
        "n1 = 10\n",
        "n2 = 4\n",
        "\n",
        "print(f'Os números são {n1} e {n2}')\n",
        "\n",
        "print(f'Soma {n1 + n2}')\n",
        "print(f'Subtração {n1 - n2}')\n",
        "print(f'Multiplicação {n1 * n2}')\n",
        "print(f'Divisão {n1 / n2}')\n",
        "print(f'Exponenciação {n1 ** n2}')\n",
        "print(f'Divisão inteira {n1 // n2}')\n",
        "print(f'Resto da Divisão {n1 % n2}')"
      ],
      "metadata": {
        "colab": {
          "base_uri": "https://localhost:8080/"
        },
        "id": "gmfJ05hVsnox",
        "outputId": "1e634136-a0fe-4c10-bcd5-23d968f12e45"
      },
      "execution_count": 55,
      "outputs": [
        {
          "output_type": "stream",
          "name": "stdout",
          "text": [
            "Os números são 10 e 4\n",
            "Soma 14\n",
            "Subtração 6\n",
            "Multiplicação 40\n",
            "Divisão 2.5\n",
            "Exponenciação 10000\n",
            "Divisão inteira 2\n"
          ]
        }
      ]
    },
    {
      "cell_type": "markdown",
      "source": [
        "### **Exercício**\n",
        "\n",
        "Crie um conversor de temperatura de graus Celcius para Fahrenheit."
      ],
      "metadata": {
        "id": "F51hMrAmuyRF"
      }
    },
    {
      "cell_type": "code",
      "source": [
        "TempC = float(input('Digite a temperatura em °C:'))\n",
        "C_F = TempC * 9/5 + 32\n",
        "print(f'A temperatura é de {C_F}°F')"
      ],
      "metadata": {
        "colab": {
          "base_uri": "https://localhost:8080/"
        },
        "id": "Uvn3OoahvQBE",
        "outputId": "83092941-d034-49db-b3a3-dbb68a8111fb"
      },
      "execution_count": 7,
      "outputs": [
        {
          "output_type": "stream",
          "name": "stdout",
          "text": [
            "Digite a temperatura em °C:10.890\n",
            "A temperatura é de 51.602000000000004°F\n"
          ]
        }
      ]
    },
    {
      "cell_type": "code",
      "source": [
        "import time\n",
        "Dia_Nacimento = int(input('Me diga o dia do seu nacimento: '))\n",
        "Mês_Nacimento = int(input('Me diga o mês do seu nacimento: '))\n",
        "\n",
        "print('\\n')\n",
        "print('Estamos calculando seu número da sorte...')\n",
        "time.sleep (3)\n",
        "\n",
        "n_magico = (Dia_Nacimento + Mês_Nacimento)* 3 + (Dia_Nacimento/2) - Mês_Nacimento\n",
        "print(f'Seu nuúmero da sorte é {n_magico}.')"
      ],
      "metadata": {
        "colab": {
          "base_uri": "https://localhost:8080/"
        },
        "id": "aOSzFqOtyGmH",
        "outputId": "b719fffb-6f10-4592-951e-90d681a95b95"
      },
      "execution_count": 9,
      "outputs": [
        {
          "output_type": "stream",
          "name": "stdout",
          "text": [
            "Me diga o dia do seu nacimento: 24\n",
            "Me diga o mês do seu nacimento: 10\n",
            "\n",
            "\n",
            "Estamos calculando seu número da sorte...\n",
            "Seu nuúmero da sorte é 104.0.\n"
          ]
        }
      ]
    },
    {
      "cell_type": "code",
      "source": [],
      "metadata": {
        "id": "DpL8i4kzy8Ta"
      },
      "execution_count": null,
      "outputs": []
    }
  ]
}